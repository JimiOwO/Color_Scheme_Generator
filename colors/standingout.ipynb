{
 "cells": [
  {
   "cell_type": "code",
   "execution_count": 1,
   "metadata": {},
   "outputs": [],
   "source": [
    "import cv2\n",
    "import numpy as np\n",
    "import pandas as pd\n",
    "from sklearn.cluster import KMeans\n",
    "import matplotlib.pyplot as plt\n"
   ]
  },
  {
   "cell_type": "code",
   "execution_count": null,
   "metadata": {},
   "outputs": [],
   "source": []
  },
  {
   "cell_type": "code",
   "execution_count": 2,
   "metadata": {},
   "outputs": [],
   "source": [
    "quantization_factor = 5"
   ]
  },
  {
   "cell_type": "code",
   "execution_count": 3,
   "metadata": {},
   "outputs": [],
   "source": [
    "def get_dominant_color(image: np.array):\n",
    "  # Ensure the image is 3D array\n",
    "  if len(image.shape) != 3:\n",
    "    raise ValueError(\"The image should be a 3D array\")\n",
    "\n",
    "  # Use L*a*b color space to get the dominant color\n",
    "  cie_lab = cv2.cvtColor(image, cv2.COLOR_BGR2LAB)\n",
    "\n",
    "  # Quantize the colors\n",
    "  cie_lab = cie_lab // quantization_factor * quantization_factor\n",
    "\n",
    "  # Get the most common color\n",
    "  colors, counts = np.unique(cie_lab.reshape(-1, cie_lab.shape[2]), axis=0, return_counts=True)\n",
    "  most_common_color = colors[np.argmax(counts)]\n",
    "\n",
    "  return most_common_color"
   ]
  },
  {
   "cell_type": "code",
   "execution_count": 4,
   "metadata": {},
   "outputs": [],
   "source": [
    "def slice_image(image: np.array, block_size: int = 10):\n",
    "  # Ensure the image is 3D array\n",
    "  if len(image.shape) != 3:\n",
    "    raise ValueError(\"The image should be a 3D array\")\n",
    "\n",
    "  result = []\n",
    "\n",
    "  # Slice the image into multiple block_size * block_size pixel blocks\n",
    "  for i in range(0, image.shape[0], block_size):\n",
    "    for j in range(0, image.shape[1], block_size):\n",
    "      # Check if indices are within image size\n",
    "      end_row = i + block_size\n",
    "      end_col = j + block_size\n",
    "      if i + block_size > image.shape[0]:\n",
    "        end_row = image.shape[0]\n",
    "      if j + block_size > image.shape[1]:\n",
    "        end_col = image.shape[1]\n",
    "\n",
    "      # Get the block\n",
    "      block = image[i:end_row, j:end_col]\n",
    "      result.append(get_dominant_color(block))\n",
    "\n",
    "  return result"
   ]
  },
  {
   "cell_type": "code",
   "execution_count": 5,
   "metadata": {},
   "outputs": [],
   "source": [
    "def load_image(image_path):\n",
    "    image = cv2.imread(image_path)\n",
    "    return image"
   ]
  },
  {
   "cell_type": "code",
   "execution_count": 6,
   "metadata": {},
   "outputs": [],
   "source": [
    "image_name = \"./src/04wooded.jpg\"\n",
    "output_name = image_name.split(\".\")[-2] + \"_output.png\"\n",
    "image = load_image(image_name)\n",
    "labs = slice_image(image, 10)"
   ]
  },
  {
   "cell_type": "code",
   "execution_count": 7,
   "metadata": {},
   "outputs": [
    {
     "name": "stdout",
     "output_type": "stream",
     "text": [
      "(8500, 3)\n"
     ]
    }
   ],
   "source": [
    "lab_array = np.array(labs)\n",
    "print(lab_array.shape)\n",
    "\n",
    "# Get the most common color\n",
    "colors, counts = np.unique(lab_array, axis=0, return_counts=True)\n",
    "\n",
    "# 10 most common colors with their counts\n",
    "most_common_colors = colors[np.argsort(counts)[::-1]][:10]\n",
    "most_common_colors_counts = counts[np.argsort(counts)[::-1]][:10]\n"
   ]
  },
  {
   "cell_type": "code",
   "execution_count": 8,
   "metadata": {},
   "outputs": [
    {
     "data": {
      "image/png": "[encoded data removed]",
      "text/plain": [
       "<Figure size 1500x500 with 1 Axes>"
      ]
     },
     "metadata": {},
     "output_type": "display_data"
    }
   ],
   "source": [
    "# Change the most common colors to RGB\n",
    "most_common_colors_rgb = [cv2.cvtColor(np.uint8([[color]]), cv2.COLOR_LAB2RGB)[0][0] for color in most_common_colors]\n",
    "\n",
    "# Plot histogram of the most common colors\n",
    "\n",
    "plt.figure(figsize=(15, 5))\n",
    "plt.bar(range(10), most_common_colors_counts, color=[(c[0] / 255, c[1] / 255, c[2] / 255) for c in most_common_colors_rgb])\n",
    "plt.xticks(range(10), [f\"{most_common_colors_rgb[i]}\" for i in range(10)])\n",
    "plt.xlabel(\"Color\")\n",
    "plt.ylabel(\"Count\")\n",
    "plt.title(\"Most common colors\")\n",
    "plt.savefig(f\".{output_name}\")\n",
    "plt.show()\n",
    "\n",
    "# Save to image of the same name"
   ]
  },
  {
   "cell_type": "code",
   "execution_count": 9,
   "metadata": {},
   "outputs": [],
   "source": [
    "import tkinter as tk\n",
    "from tkinter import filedialog\n",
    "from PIL import Image, ImageTk\n",
    "import os,sys\n",
    "import numpy as np\n",
    "import cv2\n",
    "sys.path.append(os.getcwd())\n",
    "from colors.standout import get_n_standing_out_color,create_dominant_image_graph\n",
    "\n",
    "def create_overlay_graph_UI(image,colors):\n",
    "    bgr_image = cv2.cvtColor(np.array(image),cv2.COLOR_BGR2RGB)\n",
    "    \n",
    "    Image.fromarray(cv2.cvtColor(bgr_image, cv2.COLOR_BGR2RGB)).show()\n",
    "    cube_size = 30\n",
    "    separation = (1/3 * cube_size)\n",
    "    x_start = int(bgr_image.shape[1] - cube_size * len(colors) - 1/3 * (len(colors) - 1) - 50)\n",
    "    y_start = int(bgr_image.shape[0] - cube_size - 50 )\n",
    "\n",
    "    for c in colors:\n",
    "        cube = np.full((cube_size,cube_size,3),c,dtype = np.uint8)\n",
    "        # print(type(x_start))\n",
    "        y_start = int(y_start)\n",
    "        x_start = int(x_start)\n",
    "        bgr_image[y_start:y_start+cube_size, x_start:x_start+cube_size] = cube\n",
    "        x_start += cube_size + separation\n",
    "\n",
    "    result_image_pil = Image.fromarray(cv2.cvtColor(bgr_image, cv2.COLOR_BGR2RGB))\n",
    "    result_image_pil.show()\n",
    "    return bgr_image\n",
    "\n",
    "def open_image():\n",
    "    file_path = filedialog.askopenfilename()\n",
    "    if file_path:\n",
    "        image = Image.open(file_path)\n",
    "        width, height = image.size\n",
    "        max_width = 720\n",
    "        max_height = 480\n",
    "        if width > max_width or height > max_height:\n",
    "            ratio = min(max_width / width, max_height / height)\n",
    "            new_width = int(width * ratio)\n",
    "            new_height = int(height * ratio)\n",
    "            image = image.resize((new_width, new_height))\n",
    "\n",
    "        color_list = get_n_standing_out_color(file_path)\n",
    "        # create_dominant_image_graph(color_list).show()\n",
    "        overlay_image = create_overlay_graph_UI(image,color_list)\n",
    "        # photo_image = ImageTk.PhotoImage(overlay_image)\n",
    "        # img_label.configure(image=photo_image)\n",
    "        # img_label.image = photo_image\n",
    "            \n",
    "root = tk.Tk()\n",
    "root.title(\"color scheme generator\")\n",
    "root.geometry(\"720x480\")\n",
    "txt = tk.Label(root,text=\"please open the image to generate color scheme.\",font=(\"Times New Roman\",24))\n",
    "open_button = tk.Button(root, text=\"Open Image\", command=open_image,font=(\"Times New Roman\",24))\n",
    "txt.pack()\n",
    "open_button.pack()\n",
    "img_label = tk.Label(root)\n",
    "img_label.pack()\n",
    "root.mainloop()"
   ]
  }
 ],
 "metadata": {
  "kernelspec": {
   "display_name": "base",
   "language": "python",
   "name": "python3"
  },
  "language_info": {
   "codemirror_mode": {
    "name": "ipython",
    "version": 3
   },
   "file_extension": ".py",
   "mimetype": "text/x-python",
   "name": "python",
   "nbconvert_exporter": "python",
   "pygments_lexer": "ipython3",
   "version": "3.11.4"
  }
 },
 "nbformat": 4,
 "nbformat_minor": 2
}
